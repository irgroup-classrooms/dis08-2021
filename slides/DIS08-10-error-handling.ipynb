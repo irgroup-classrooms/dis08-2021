{
 "cells": [
  {
   "cell_type": "markdown",
   "metadata": {},
   "source": [
    "# Errors and Exceptions\n",
    "\n",
    "Source: [The Software Carpentries](https://swcarpentry.github.io/python-novice-inflammation/09-errors/index.html)\n",
    "\n",
    "Every programmer encounters errors, both those who are just beginning, and those who have been programming for years. Encountering errors and exceptions can be very frustrating at times, and can make coding feel like a hopeless endeavour. However, understanding what the different types of errors are and when you are likely to encounter them can help a lot. Once you know why you get certain types of errors, they become much easier to fix.\n",
    "\n",
    "Errors in Python have a very specific form, called a __traceback__. Let’s examine one:"
   ]
  },
  {
   "cell_type": "code",
   "execution_count": null,
   "metadata": {},
   "outputs": [],
   "source": [
    "# This code has an intentional error. You can type it directly or\n",
    "# use it for reference to understand the error message below.\n",
    "def favorite_ice_cream():\n",
    "    ice_creams = [\n",
    "        'chocolate',\n",
    "        'vanilla',\n",
    "        'strawberry'\n",
    "    ]\n",
    "    print(ice_creams[3])\n",
    "\n",
    "favorite_ice_cream()"
   ]
  },
  {
   "cell_type": "markdown",
   "metadata": {},
   "source": [
    "This particular traceback has two levels.\n",
    "You can determine the number of levels by looking for the number of arrows on the left hand side.\n",
    "In this case:\n",
    "\n",
    "1.  The first shows code from the cell above,\n",
    "    with an arrow pointing to Line 11 (which is `favorite_ice_cream()`).\n",
    "\n",
    "2.  The second shows some code in the function `favorite_ice_cream`,\n",
    "    with an arrow pointing to Line 9 (which is `print(ice_creams[3])`).\n",
    "\n",
    "The last level is the actual place where the error occurred.\n",
    "The other level(s) show what function the program executed to get to the next level down.\n",
    "So, in this case, the program first performed a\n",
    "__function call__ to the function `favorite_ice_cream`.\n",
    "Inside this function,\n",
    "the program encountered an error on Line 6, when it tried to run the code `print(ice_creams[3])`."
   ]
  },
  {
   "cell_type": "markdown",
   "metadata": {},
   "source": [
    "> ## Long Tracebacks\n",
    ">\n",
    "> Sometimes, you might see a traceback that is very long\n",
    "> -- sometimes they might even be 20 levels deep!\n",
    "> This can make it seem like something horrible happened,\n",
    "> but the length of the error message does not reflect severity, rather,\n",
    "> it indicates that your program called many functions before it encountered the error.\n",
    "> Most of the time, the actual place where the error occurred is at the bottom-most level,\n",
    "> so you can skip down the traceback to the bottom."
   ]
  },
  {
   "cell_type": "markdown",
   "metadata": {},
   "source": [
    "So what error did the program actually encounter?\n",
    "In the last line of the traceback,\n",
    "Python helpfully tells us the category or type of error (in this case, it is an `IndexError`)\n",
    "and a more detailed error message (in this case, it says \"list index out of range\").\n",
    "\n",
    "If you encounter an error and don't know what it means,\n",
    "it is still important to read the traceback closely.\n",
    "That way,\n",
    "if you fix the error,\n",
    "but encounter a new one,\n",
    "you can tell that the error changed.\n",
    "Additionally,\n",
    "sometimes knowing *where* the error occurred is enough to fix it,\n",
    "even if you don't entirely understand the message.\n",
    "\n",
    "If you do encounter an error you don't recognize,\n",
    "try looking at the\n",
    "[official documentation on errors](http://docs.python.org/3/library/exceptions.html).\n",
    "However,\n",
    "note that you may not always be able to find the error there,\n",
    "as it is possible to create custom errors.\n",
    "In that case,\n",
    "hopefully the custom error message is informative enough to help you figure out what went wrong.\n"
   ]
  },
  {
   "cell_type": "markdown",
   "metadata": {},
   "source": [
    "## Syntax Errors\n",
    "\n",
    "When you forget a colon at the end of a line,\n",
    "accidentally add one space too many when indenting under an `if` statement,\n",
    "or forget a parenthesis,\n",
    "you will encounter a __syntax error__.\n",
    "This means that Python couldn't figure out how to read your program.\n",
    "This is similar to forgetting punctuation in English:\n",
    "for example,\n",
    "this text is difficult to read there is no punctuation there is also no capitalization\n",
    "why is this hard because you have to figure out where each sentence ends\n",
    "you also have to figure out where each sentence begins\n",
    "to some extent it might be ambiguous if there should be a sentence break or not\n",
    "\n",
    "People can typically figure out what is meant by text with no punctuation,\n",
    "but people are much smarter than computers.\n",
    "If Python doesn't know how to read the program,\n",
    "it will give up and inform you with an error.\n",
    "For example:"
   ]
  },
  {
   "cell_type": "code",
   "execution_count": null,
   "metadata": {},
   "outputs": [],
   "source": [
    "def some_function()\n",
    "    msg = 'hello, world!'\n",
    "    print(msg)\n",
    "     return msg"
   ]
  },
  {
   "cell_type": "markdown",
   "metadata": {},
   "source": [
    "Here, Python tells us that there is a `SyntaxError` on line 1,\n",
    "and even puts a little arrow in the place where there is an issue.\n",
    "In this case the problem is that the function definition is missing a colon at the end.\n",
    "\n",
    "Actually, the function above has *two* issues with syntax.\n",
    "If we fix the problem with the colon,\n",
    "we see that there is *also* an `IndentationError`,\n",
    "which means that the lines in the function definition do not all have the same indentation:"
   ]
  },
  {
   "cell_type": "code",
   "execution_count": null,
   "metadata": {},
   "outputs": [],
   "source": [
    "def some_function():\n",
    "    msg = 'hello, world!'\n",
    "    print(msg)\n",
    "     return msg"
   ]
  },
  {
   "cell_type": "markdown",
   "metadata": {},
   "source": [
    "## Tabs and Spaces\n",
    "\n",
    "Some indentation errors are harder to spot than others.\n",
    "In particular, mixing spaces and tabs can be difficult to spot\n",
    "because they are both [whitespace]({{ page.root }}/reference.html#whitespace).\n",
    "In the example below, the first two lines in the body of the function\n",
    "`some_function` are indented with tabs, while the third line &mdash; with spaces.\n",
    "If you're working in a Jupyter notebook, be sure to copy and paste this example\n",
    "rather than trying to type it in manually because Jupyter automatically replaces\n",
    "tabs with spaces.\n"
   ]
  },
  {
   "cell_type": "code",
   "execution_count": null,
   "metadata": {},
   "outputs": [],
   "source": [
    "def some_function():\n",
    "\tmsg = 'hello, world!'\n",
    "\tprint(msg)\n",
    "    return msg"
   ]
  },
  {
   "cell_type": "markdown",
   "metadata": {},
   "source": [
    "Visually it is hard/impossible to spot the error. Fortunately, Python does not allow you to mix tabs and spaces."
   ]
  },
  {
   "cell_type": "markdown",
   "metadata": {},
   "source": [
    "## Variable Name Errors\n",
    "\n",
    "Another very common type of error is called a `NameError`,\n",
    "and occurs when you try to use a variable that does not exist.\n",
    "For example:"
   ]
  },
  {
   "cell_type": "code",
   "execution_count": null,
   "metadata": {},
   "outputs": [],
   "source": [
    "print(a)"
   ]
  },
  {
   "cell_type": "markdown",
   "metadata": {},
   "source": [
    "Variable name errors come with some of the most informative error messages,\n",
    "which are usually of the form \"name 'the_variable_name' is not defined\".\n",
    "\n",
    "Why does this error message occur?\n",
    "That's a harder question to answer,\n",
    "because it depends on what your code is supposed to do.\n",
    "However,\n",
    "there are a few very common reasons why you might have an undefined variable.\n",
    "The first is that you meant to use a __string__, but forgot to put quotes around it:"
   ]
  },
  {
   "cell_type": "code",
   "execution_count": null,
   "metadata": {},
   "outputs": [],
   "source": [
    "print(hello)"
   ]
  },
  {
   "cell_type": "markdown",
   "metadata": {},
   "source": [
    "\n",
    "The second reason is that you might be trying to use a variable that does not yet exist.\n",
    "In the following example,\n",
    "`count` should have been defined (e.g., with `count = 0`) before the for loop:\n"
   ]
  },
  {
   "cell_type": "code",
   "execution_count": null,
   "metadata": {},
   "outputs": [],
   "source": [
    "for number in range(10):\n",
    "    count = count + number\n",
    "print('The count is:', count)"
   ]
  },
  {
   "cell_type": "markdown",
   "metadata": {},
   "source": [
    "Finally, the third possibility is that you made a typo when you were writing your code.\n",
    "Let's say we fixed the error above by adding the line `Count = 0` before the for loop.\n",
    "Frustratingly, this actually does not fix the error.\n",
    "Remember that variables are __case-sensitive__,\n",
    "so the variable `count` is different from `Count`. We still get the same error,\n",
    "because we still have not defined `count`:"
   ]
  },
  {
   "cell_type": "code",
   "execution_count": null,
   "metadata": {},
   "outputs": [],
   "source": [
    "Count = 0\n",
    "for number in range(10):\n",
    "    count = count + number\n",
    "print('The count is:', count)"
   ]
  },
  {
   "cell_type": "markdown",
   "metadata": {},
   "source": [
    "## Index Errors\n",
    "\n",
    "Next up are errors having to do with containers (like lists and strings) and the items within them.\n",
    "If you try to access an item in a list or a string that does not exist,\n",
    "then you will get an error.\n",
    "This makes sense:\n",
    "if you asked someone what day they would like to get coffee,\n",
    "and they answered \"caturday\",\n",
    "you might be a bit annoyed.\n",
    "Python gets similarly annoyed if you try to ask it for an item that doesn't exist:\n"
   ]
  },
  {
   "cell_type": "code",
   "execution_count": null,
   "metadata": {},
   "outputs": [],
   "source": [
    "letters = ['a', 'b', 'c']\n",
    "print('Letter #1 is', letters[0])\n",
    "print('Letter #2 is', letters[1])\n",
    "print('Letter #3 is', letters[2])\n",
    "print('Letter #4 is', letters[3])"
   ]
  },
  {
   "cell_type": "markdown",
   "metadata": {},
   "source": [
    "Here,\n",
    "Python is telling us that there is an `IndexError` in our code,\n",
    "meaning we tried to access a list index that did not exist.\n",
    "\n"
   ]
  },
  {
   "cell_type": "markdown",
   "metadata": {},
   "source": [
    "## File Errors\n",
    "\n",
    "The last type of error we'll cover today\n",
    "are those associated with reading and writing files: `FileNotFoundError`.\n",
    "If you try to read a file that does not exist,\n",
    "you will receive a `FileNotFoundError` telling you so.\n",
    "If you attempt to write to a file that was opened read-only, Python 3\n",
    "returns an `UnsupportedOperationError`.\n",
    "More generally, problems with input and output manifest as\n",
    "`IOError`s or `OSError`s, depending on the version of Python you use.\n",
    "\n"
   ]
  },
  {
   "cell_type": "code",
   "execution_count": null,
   "metadata": {},
   "outputs": [],
   "source": [
    "file_handle = open('myfile.txt', 'r')"
   ]
  },
  {
   "cell_type": "markdown",
   "metadata": {},
   "source": [
    "One reason for receiving this error is that you specified an incorrect path to the file.\n",
    "For example,\n",
    "if I am currently in a folder called `myproject`,\n",
    "and I have a file in `myproject/writing/myfile.txt`,\n",
    "but I try to open `myfile.txt`,\n",
    "this will fail.\n",
    "The correct path would be `writing/myfile.txt`.\n",
    "It is also possible that the file name or its path contains a typo.\n",
    "\n",
    "A related issue can occur if you use the \"read\" flag instead of the \"write\" flag.\n",
    "Python will not give you an error if you try to open a file for writing\n",
    "when the file does not exist.\n",
    "However,\n",
    "if you meant to open a file for reading,\n",
    "but accidentally opened it for writing,\n",
    "and then try to read from it,\n",
    "you will get an `UnsupportedOperation` error\n",
    "telling you that the file was not opened for reading:\n"
   ]
  },
  {
   "cell_type": "code",
   "execution_count": null,
   "metadata": {},
   "outputs": [],
   "source": [
    "file_handle = open('myfile.txt', 'w')\n",
    "file_handle.read()"
   ]
  },
  {
   "cell_type": "markdown",
   "metadata": {},
   "source": [
    "These are the __most common errors with files__,\n",
    "though many others exist.\n",
    "If you get an error that you've never seen before,\n",
    "searching the Internet for that error type\n",
    "often reveals common reasons why you might get that error."
   ]
  },
  {
   "cell_type": "markdown",
   "metadata": {},
   "source": [
    "## Reading Error Messages\n",
    "\n",
    "Read the Python code and the resulting traceback below, and answer the following questions:\n",
    "\n",
    "1.  How many levels does the traceback have?\n",
    "2.  What is the function name where the error occurred?\n",
    "3.  On which line number in this function did the error occur?\n",
    "4.  What is the type of error?\n",
    "5.  What is the error message?"
   ]
  },
  {
   "cell_type": "code",
   "execution_count": null,
   "metadata": {},
   "outputs": [],
   "source": [
    "# This code has an intentional error. Do not type it directly;\n",
    "# use it for reference to understand the error message below.\n",
    "def print_message(day):\n",
    "    messages = {\n",
    "        'monday': 'Hello, world!',\n",
    "        'tuesday': 'Today is Tuesday!',\n",
    "        'wednesday': 'It is the middle of the week.',\n",
    "        'thursday': 'Today is Donnerstag in German!',\n",
    "        'friday': 'Last day of the week!',\n",
    "        'saturday': 'Hooray for the weekend!',\n",
    "        'sunday': 'Aw, the weekend is almost over.'\n",
    "    }\n",
    "    print(messages[day])\n",
    "\n",
    "def print_friday_message():\n",
    "    print_message('Friday')\n",
    "\n",
    "print_friday_message()"
   ]
  },
  {
   "cell_type": "markdown",
   "metadata": {},
   "source": [
    "## Identifying Syntax Errors\n",
    "\n",
    "1. Read the code below, and (without running it) try to identify what the errors are.\n",
    "2. Run the code, and read the error message. Is it a `SyntaxError` or an `IndentationError`?\n",
    "3. Fix the error.\n",
    "4. Repeat steps 2 and 3, until you have fixed all the errors.\n"
   ]
  },
  {
   "cell_type": "code",
   "execution_count": null,
   "metadata": {},
   "outputs": [],
   "source": [
    "def another_function\n",
    "  print('Syntax errors are annoying.')\n",
    "   print('But at least Python tells us about them!')\n",
    "  print('So they are usually not too hard to fix.')"
   ]
  },
  {
   "cell_type": "markdown",
   "metadata": {},
   "source": [
    "## Identifying Variable Name Errors\n",
    "\n",
    "1. Read the code below, and (without running it) try to identify what the errors are.\n",
    "2. Run the code, and read the error message.\n",
    "   What type of `NameError` do you think this is?\n",
    "   In other words, is it a string with no quotes,\n",
    "   a misspelled variable,\n",
    "   or a variable that should have been defined but was not?\n",
    "3. Fix the error.\n",
    "4. Repeat steps 2 and 3, until you have fixed all the errors.\n"
   ]
  },
  {
   "cell_type": "code",
   "execution_count": null,
   "metadata": {},
   "outputs": [],
   "source": [
    "for number in range(10):\n",
    "    # use a if the number is a multiple of 3, otherwise use b\n",
    "    if (Number % 3) == 0:\n",
    "        message = message + a\n",
    "    else:\n",
    "        message = message + 'b'\n",
    "print(message)"
   ]
  },
  {
   "cell_type": "markdown",
   "metadata": {},
   "source": [
    "## Identifying Index Errors\n",
    "\n",
    "1. Read the code below, and (without running it) try to identify what the errors are.\n",
    "2. Run the code, and read the error message. What type of error is it?\n",
    "3. Fix the error.\n"
   ]
  },
  {
   "cell_type": "code",
   "execution_count": null,
   "metadata": {},
   "outputs": [],
   "source": [
    "seasons = ['Spring', 'Summer', 'Fall', 'Winter']\n",
    "print('My favorite season is ', seasons[4])\n"
   ]
  },
  {
   "cell_type": "markdown",
   "metadata": {},
   "source": [
    "# Defensive Programming: Assertions\n",
    "\n",
    "The first step toward getting the right answers from our programs\n",
    "is to assume that mistakes *will* happen\n",
    "and to guard against them.\n",
    "This is called __defensive programming__\n",
    "and the most common way to do it is to add\n",
    "__assertions__ to our code\n",
    "so that it checks itself as it runs.\n",
    "An assertion is simply a statement that something must be true at a certain point in a program.\n",
    "When Python sees one,\n",
    "it evaluates the assertion's condition.\n",
    "If it's true,\n",
    "Python does nothing,\n",
    "but if it's false,\n",
    "Python halts the program immediately\n",
    "and prints the error message if one is provided.\n",
    "For example,\n",
    "this piece of code halts as soon as the loop encounters a value that isn't positive:\n"
   ]
  },
  {
   "cell_type": "code",
   "execution_count": null,
   "metadata": {},
   "outputs": [],
   "source": [
    "numbers = [1.5, 2.3, 0.7, -0.001, 4.4]\n",
    "total = 0.0\n",
    "for num in numbers:\n",
    "    assert num > 0.0, 'Data should only contain positive values'\n",
    "    total += num\n",
    "print('total is:', total)"
   ]
  },
  {
   "cell_type": "markdown",
   "metadata": {},
   "source": [
    "## Fail early, fail often - Turn bugs into assertions\n",
    "\n",
    "But assertions aren't just about catching errors:\n",
    "they also help people understand programs.\n",
    "Each assertion gives the person reading the program\n",
    "a chance to check (consciously or otherwise)\n",
    "that their understanding matches what the code is doing.\n",
    "\n",
    "Most good programmers follow two rules when adding assertions to their code.\n",
    "\n",
    "1. The first is, *fail early, fail often*.\n",
    "The greater the distance between when and where an error occurs and when it's noticed,\n",
    "the harder the error will be to debug,\n",
    "so good code catches mistakes as early as possible.\n",
    "\n",
    "2. The second rule is, *turn bugs into assertions or tests*.\n",
    "Whenever you fix a bug, write an assertion that catches the mistake\n",
    "should you make it again.\n",
    "If you made a mistake in a piece of code,\n",
    "the odds are good that you have made other mistakes nearby,\n",
    "or will make the same mistake (or a related one)\n",
    "the next time you change it.\n",
    "\n",
    "Writing assertions to check that you haven't __regressed__\n",
    "(i.e., haven't re-introduced an old problem)\n",
    "can save a lot of time in the long run,\n",
    "and helps to warn people who are reading the code\n",
    "(including your future self)\n",
    "that this bit is tricky."
   ]
  },
  {
   "cell_type": "markdown",
   "metadata": {},
   "source": [
    "## Test-Driven Development\n",
    "\n",
    "An assertion checks that something is true at a particular point in the program.\n",
    "The next step is to check the overall behavior of a piece of code,\n",
    "i.e.,\n",
    "to make sure that it produces the right output when it's given a particular input.\n",
    "For example,\n",
    "suppose we need to find where two or more time series overlap.\n",
    "The range of each time series is represented as a pair of numbers,\n",
    "which are the time the interval started and ended.\n",
    "The output is the largest range that they all include:\n",
    "\n",
    "![Graph showing three number lines and, at the bottom,\n",
    "the interval that they overlap.](https://swcarpentry.github.io/python-novice-inflammation/fig/python-overlapping-ranges.svg)\n"
   ]
  },
  {
   "cell_type": "markdown",
   "metadata": {},
   "source": [
    "Most novice programmers would solve this problem like this:\n",
    "\n",
    "1.  Write a function `range_overlap`.\n",
    "2.  Call it interactively on two or three different inputs.\n",
    "3.  If it produces the wrong answer, fix the function and re-run that test.\n",
    "\n",
    "This clearly works --- after all, thousands of scientists are doing it right now --- but\n",
    "there's a better way:\n",
    "\n",
    "1.  Write a short function for each test.\n",
    "2.  Write a `range_overlap` function that should pass those tests.\n",
    "3.  If `range_overlap` produces any wrong answers, fix it and re-run the test functions.\n",
    "\n",
    "Writing the tests *before* writing the function they exercise\n",
    "is called __test-driven development__ (TDD).\n",
    "Its advocates believe it produces better code faster because:\n",
    "\n",
    "1.  If people write tests after writing the thing to be tested,\n",
    "    they are subject to confirmation bias,\n",
    "    i.e.,\n",
    "    they subconsciously write tests to show that their code is correct,\n",
    "    rather than to find errors.\n",
    "2.  Writing tests helps programmers figure out what the function is actually supposed to do.\n",
    "\n",
    "Here are three test functions for `range_overlap`:\n"
   ]
  },
  {
   "cell_type": "code",
   "execution_count": null,
   "metadata": {},
   "outputs": [],
   "source": [
    "assert range_overlap([ (0.0, 1.0) ]) == (0.0, 1.0)\n",
    "assert range_overlap([ (2.0, 3.0), (2.0, 4.0) ]) == (2.0, 3.0)\n",
    "assert range_overlap([ (0.0, 1.0), (0.0, 2.0), (-1.0, 1.0) ]) == (0.0, 1.0)"
   ]
  },
  {
   "cell_type": "markdown",
   "metadata": {},
   "source": [
    "# Debugging 101\n",
    "Once testing has uncovered problems, the next step is to fix them. Many novices do this by making more-or-less random changes to their code until it seems to produce the right answer, but that’s very inefficient (and the result is usually only correct for the one case they’re testing). The more experienced a programmer is, the more systematically they debug, and most follow some variation on the rules explained below."
   ]
  },
  {
   "cell_type": "markdown",
   "metadata": {},
   "source": [
    "## Know What It's Supposed to Do\n",
    "\n",
    "The first step in debugging something is to\n",
    "*know what it's supposed to do*.\n",
    "\"My program doesn't work\" isn't good enough:\n",
    "in order to diagnose and fix problems,\n",
    "we need to be able to tell correct output from incorrect.\n",
    "If we can write a test case for the failing case --- i.e.,\n",
    "if we can assert that with *these* inputs,\n",
    "the function should produce *that* result ---\n",
    "then we're ready to start debugging.\n",
    "If we can't,\n",
    "then we need to figure out how we're going to know when we've fixed things.\n",
    "\n",
    "But writing test cases for scientific software is frequently harder than\n",
    "writing test cases for commercial applications,\n",
    "because if we knew what the output of the scientific code was supposed to be,\n",
    "we wouldn't be running the software:\n",
    "we'd be writing up our results and moving on to the next program.\n",
    "In practice,\n",
    "scientists tend to do the following:\n",
    "\n",
    "1.  *Test with simplified data.*\n",
    "    Before doing statistics on a real data set,\n",
    "    we should try calculating statistics for a single record,\n",
    "    for two identical records,\n",
    "    for two records whose values are one step apart,\n",
    "    or for some other case where we can calculate the right answer by hand.\n",
    "\n",
    "2.  *Test a simplified case.*\n",
    "    If our program is supposed to simulate\n",
    "    magnetic eddies in rapidly-rotating blobs of supercooled helium,\n",
    "    our first test should be a blob of helium that isn't rotating,\n",
    "    and isn't being subjected to any external electromagnetic fields.\n",
    "    Similarly,\n",
    "    if we're looking at the effects of climate change on speciation,\n",
    "    our first test should hold temperature, precipitation, and other factors constant.\n",
    "\n",
    "3.  *Compare to an oracle.*\n",
    "    A __test oracle__\n",
    "    is something whose results are trusted,\n",
    "    such as experimental data, an older program, or a human expert.\n",
    "    We use test oracles to determine if our new program produces the correct results.\n",
    "    If we have a test oracle,\n",
    "    we should store its output for particular cases\n",
    "    so that we can compare it with our new results as often as we like\n",
    "    without re-running that program.\n",
    "\n",
    "4.  *Check conservation laws.*\n",
    "    Mass, energy, and other quantities are conserved in physical systems,\n",
    "    so they should be in programs as well.\n",
    "    Similarly,\n",
    "    if we are analyzing patient data,\n",
    "    the number of records should either stay the same or decrease\n",
    "    as we move from one analysis to the next\n",
    "    (since we might throw away outliers or records with missing values).\n",
    "    If \"new\" patients start appearing out of nowhere as we move through our pipeline,\n",
    "    it's probably a sign that something is wrong.\n",
    "\n",
    "5.  *Visualize.*\n",
    "    Data analysts frequently use simple visualizations to check both\n",
    "    the science they're doing\n",
    "    and the correctness of their code.\n",
    "    This should only be used for debugging as a last resort,\n",
    "    though,\n",
    "    since it's very hard to compare two visualizations automatically."
   ]
  },
  {
   "cell_type": "markdown",
   "metadata": {},
   "source": [
    "## Other Golden Rules\n",
    "\n",
    "- Make it fail every time\n",
    "- Make it fail fast\n",
    "- Change one thing at a time, for a reason\n",
    "- Keep track of what you've done\n",
    "- Version control for the win\n",
    "- Be humble\n",
    "- Debug with a colleague\n"
   ]
  },
  {
   "cell_type": "markdown",
   "metadata": {},
   "source": [
    "# Toy Example: Not Supposed to be the Same\n",
    "\n",
    "You are assisting a researcher with Python code that computes the\n",
    "Body Mass Index (BMI) of patients.  The researcher is concerned because\n",
    "all patients seemingly have unusual and identical BMIs, despite having different\n",
    "physiques.  BMI is calculated as **weight in kilograms**\n",
    "divided by the square of **height in metres**.\n",
    "\n",
    "- Use the debugging principles in this exercise and locate problems with the code. \n",
    "- What suggestions would you give the researcher for ensuring any later changes they make work correctly?\n"
   ]
  },
  {
   "cell_type": "code",
   "execution_count": null,
   "metadata": {},
   "outputs": [],
   "source": [
    "patients = [[70, 1.8], [80, 1.9], [150, 1.7]]\n",
    "\n",
    "def calculate_bmi(weight, height):\n",
    "    return weight / (height ** 2)\n",
    "\n",
    "for patient in patients:\n",
    "    weight, height = patients[0]\n",
    "    bmi = calculate_bmi(height, weight)\n",
    "    print(\"Patient's BMI is: %f\" % bmi)"
   ]
  }
 ],
 "metadata": {
  "kernelspec": {
   "display_name": "Python 3",
   "language": "python",
   "name": "python3"
  },
  "language_info": {
   "codemirror_mode": {
    "name": "ipython",
    "version": 3
   },
   "file_extension": ".py",
   "mimetype": "text/x-python",
   "name": "python",
   "nbconvert_exporter": "python",
   "pygments_lexer": "ipython3",
   "version": "3.9.9"
  }
 },
 "nbformat": 4,
 "nbformat_minor": 4
}
