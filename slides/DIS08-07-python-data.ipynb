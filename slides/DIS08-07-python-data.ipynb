{
 "cells": [
  {
   "cell_type": "markdown",
   "metadata": {},
   "source": [
    "# DIS08 - Basic Data Processing with Python"
   ]
  },
  {
   "cell_type": "markdown",
   "metadata": {},
   "source": [
    "Let's just wrap up the things you should have learned in your previous Python course so far... As DIS06 we are working with the text book [Automatic the Boring Stuff with Python](https://automatetheboringstuff.com).\n",
    "\n",
    "## Python Basics (chapter 1)\n",
    "\n",
    "You can compute expressions with a calculator or type string concatenations with a word processor. You can even do string replication easily by copying and pasting text. But expressions, and their component values—operators, variables, and function calls—are the basic building blocks that make programs. Once you know how to handle these elements, you will be able to instruct Python to operate on large amounts of data for you.\n",
    "\n",
    "It is good to remember the different types of operators (+, -, \\*, /, //, %, and ** for math operations, and + and * for string operations) and the three data types (integers, floating-point numbers, and strings) introduced in this chapter.\n",
    "\n",
    "A few different functions were introduced as well. The print() and input() functions handle simple text output (to the screen) and input (from the keyboard). The len() function takes a string and evaluates to an int of the number of characters in the string. The str(), int(), and float() functions will evaluate to the string, integer, or floating-point number form of the value they are passed.\n",
    "\n",
    "In a nutshell, you learnt about\n",
    "\n",
    " * math operators,\n",
    " * data type (integer, float, strings, ...),\n",
    " * string concatenation and replication,\n",
    " * variables,\n",
    " * running code within the Spyder IDE / Jupyter Notebooks,\n",
    " * basic functions (print(), input(), len(), str(), int(), and float().\n",
    "\n",
    "### Small excercise on data types, math, and string concatenations"
   ]
  },
  {
   "cell_type": "code",
   "execution_count": null,
   "metadata": {},
   "outputs": [],
   "source": [
    "zwei = 2.04\n",
    "\n",
    "print(float(zwei)-float(1))"
   ]
  },
  {
   "cell_type": "code",
   "execution_count": null,
   "metadata": {},
   "outputs": [],
   "source": [
    "bruch = ''' asdfasdf\n",
    "asdf\n",
    "asdfa sdfasdf\n",
    "asdfaaa\n",
    "\n",
    "asdf'''\n",
    "print('Das ist ein Mehrzeilenstring: ' + bruch)"
   ]
  },
  {
   "cell_type": "code",
   "execution_count": null,
   "metadata": {},
   "outputs": [],
   "source": [
    "# Where is the bug in the following code snippet? How can you correct it?\n",
    "currentAge = 21\n",
    "print('You will be ' + currentAge + 1 + ' in one year.')"
   ]
  },
  {
   "cell_type": "markdown",
   "metadata": {},
   "source": [
    "### Where to look for help?\n",
    "* https://www.w3schools.com/python/default.asp\n",
    "* https://automatetheboringstuff.com"
   ]
  },
  {
   "cell_type": "markdown",
   "metadata": {},
   "source": [
    "## Flow Control (chapter 2)\n",
    "By using expressions that evaluate to True or False (also called conditions), you can write programs that make decisions on what code to execute and what code to skip. You can also execute code over and over again in a loop while a certain condition evaluates to True. The break and continue statements are useful if you need to exit a loop or jump back to the start. These flow control statements will let you write much more intelligent programs. \n",
    "\n",
    "In a nutshell, you learnt about\n",
    "\n",
    " * boolean values, comparison operators, boolean operators,\n",
    " * elements of flow control (conditions, blocks of code)\n",
    " * flow control statements (if, else, elif, while, for, range()\n",
    " * importing modules\n",
    " \n",
    "### Small excercises and examples"
   ]
  },
  {
   "cell_type": "code",
   "execution_count": null,
   "metadata": {
    "slideshow": {
     "slide_type": "-"
    }
   },
   "outputs": [],
   "source": [
    "# Mixing comparison and boolean operators\n",
    "if(2 + 2 == 4 and not 2 + 2 == 5 and 2 * 2 == 2 + 2):\n",
    "    print('True')"
   ]
  },
  {
   "cell_type": "code",
   "execution_count": null,
   "metadata": {
    "slideshow": {
     "slide_type": "slide"
    }
   },
   "outputs": [],
   "source": [
    "# basic flow control\n",
    "name = 'Mary'\n",
    "password = 'swordfish'\n",
    "\n",
    "if name == 'Mary':\n",
    "    print('Hello Mary')\n",
    "    if password == 'swordfish':\n",
    "        print('Access granted.')\n",
    "    else:\n",
    "        print('Wrong password.')"
   ]
  },
  {
   "cell_type": "code",
   "execution_count": null,
   "metadata": {},
   "outputs": [],
   "source": [
    "# importing modules and range()\n",
    "import random\n",
    "for i in range(5):\n",
    "    print(str(i+1) + \" : \" + str(random.randint(1, 10)))"
   ]
  },
  {
   "cell_type": "code",
   "execution_count": null,
   "metadata": {},
   "outputs": [],
   "source": [
    "def umrechnung(wertFahrenheit):\n",
    "    celsius = (wertFahrenheit - 32) * 5/9\n",
    "    return celsius\n",
    "for i in range(20,70,10):\n",
    "    print(str(i) + ' Grad Fahrenheit sind in Celsius: ' + str(umrechnung(i)))"
   ]
  },
  {
   "cell_type": "markdown",
   "metadata": {},
   "source": [
    "## Functions (chapter 3)\n",
    "\n",
    "Functions are the primary way to compartmentalize your code into logical groups. Since the variables in functions exist in their own local scopes, the code in one function cannot directly affect the values of variables in other functions. This limits what code could be changing the values of your variables, which can be helpful when it comes to debugging your code.\n",
    "\n",
    "Functions are a great tool to help you organize your code. You can think of them as black boxes: They have inputs in the form of parameters and outputs in the form of return values, and the code in them doesn’t affect variables in other functions.\n",
    "\n",
    "In a nutshell, you learnt about\n",
    "\n",
    " * def statements with parameters\n",
    " * return values and return statements\n",
    " * keyword arguments and print()\n",
    " * local and global scope\n",
    " \n",
    "### Small excercises and examples"
   ]
  },
  {
   "cell_type": "code",
   "execution_count": null,
   "metadata": {},
   "outputs": [],
   "source": [
    "# This is a guess the number game.\n",
    "import random\n",
    "secretNumber = random.randint(1, 20)\n",
    "print('I am thinking of a number between 1 and 20.')\n",
    "\n",
    "# Ask the player to guess 6 times.\n",
    "for guessesTaken in range(1, 7):\n",
    "    print('Take a guess.')\n",
    "    guess = int(input())\n",
    "\n",
    "    if guess < secretNumber:\n",
    "        print('Your guess is too low.')\n",
    "    elif guess > secretNumber:\n",
    "        print('Your guess is too high.')\n",
    "    else:\n",
    "        break    # This condition is the correct guess!\n",
    "\n",
    "if guess == secretNumber:\n",
    "    print('Good job! You guessed my number in ' + str(guessesTaken) + ' guesses!')\n",
    "else:\n",
    "    print('Nope. The number I was thinking of was ' + str(secretNumber))\n"
   ]
  },
  {
   "cell_type": "markdown",
   "metadata": {},
   "source": [
    "# Lists (chapter 4)\n",
    "\n",
    "Lists are useful data types since they allow you to write code that works on a modifiable number of values in a single variable. Later in this book, you will see programs using lists to do things that would be difficult or impossible to do without them.\n",
    "\n",
    "__Lists are mutable__, meaning that their contents can change. __Tuples and strings__, although list-like in some respects, __are immutable__ and cannot be changed. A variable that contains a tuple or string value can be overwritten with a new tuple or string value, but this is not the same thing as modifying the existing value in place—like, say, the append() or remove() methods do on lists.\n",
    "\n",
    "Key topics in this chapter were\n",
    "\n",
    "* the list data type, len(), slices\n",
    "* changing values, list concatenation and list replication, removing values\n",
    "* using for loops with lists\n",
    "* the in and not in operators\n",
    "* methods and the index(), append(), insert(), remove(), sort() list methods\n",
    "* list-like types: strings and tuples\n",
    "\n",
    "### Small excercises and examples"
   ]
  },
  {
   "cell_type": "code",
   "execution_count": null,
   "metadata": {},
   "outputs": [],
   "source": [
    "import random\n",
    "\n",
    "messages = ['It is certain',\n",
    "    'It is decidedly so',\n",
    "    'Yes definitely',\n",
    "    'Reply hazy try again',\n",
    "    'Ask again later',\n",
    "    'Concentrate and ask again',\n",
    "    'My reply is no',\n",
    "    'Outlook not so good',\n",
    "    'Very doubtful']\n",
    "\n",
    "pos = random.randint(0, len(messages) - 1)\n",
    "print(pos)\n",
    "print(messages[pos])"
   ]
  },
  {
   "cell_type": "code",
   "execution_count": null,
   "metadata": {},
   "outputs": [],
   "source": [
    "for m in messages:\n",
    "    print(m)"
   ]
  },
  {
   "cell_type": "markdown",
   "metadata": {},
   "source": [
    "# Dictionaries and Structuring Data (chapter 5)\n",
    "\n",
    "You learned all about dictionaries in this chapter. Lists and dictionaries are values that can contain multiple values, including other lists and dictionaries. Dictionaries are useful because you can map one item (the key) to another (the value), as opposed to lists, which simply contain a series of values in order. Values inside a dictionary are accessed using square brackets just as with lists. Instead of an integer index, dictionaries can have keys of a variety of data types: integers, floats, strings, or tuples. By organizing a program’s values into data structures, you can create representations of real-world objects.\n",
    "\n",
    "In this chapter you learnt about\n",
    "\n",
    "* the dictionary data type\n",
    "* the keys(), values(), items(), and get() methods\n",
    "* using data structures to model real-world things\n",
    "\n",
    "### Small excercises and examples"
   ]
  },
  {
   "cell_type": "code",
   "execution_count": null,
   "metadata": {},
   "outputs": [],
   "source": [
    "picnicItems = {'apples': 5, 'cups': 2}\n",
    "\n",
    "for key, value in picnicItems.items():\n",
    "    print('key: ' + str(key) + ' - value: ' + str(value))\n",
    "\n",
    "# this works...\n",
    "print('I am bringing ' + str(picnicItems.get('cups', 0)) + ' cups.')\n",
    "print('I am bringing ' + str(picnicItems['cups']) + ' cups.')\n",
    "# this doesn't... why?\n",
    "print('I am bringing ' + str(picnicItems.get('eggs', 0)) + ' eggs.')\n",
    "print('I am bringing ' + str(picnicItems['eggs']) + ' eggs.')"
   ]
  },
  {
   "cell_type": "markdown",
   "metadata": {},
   "source": [
    "# Manipulating String (chapter 6)\n",
    "\n",
    "Text is a common form of data, and Python comes with many helpful string methods to process the text stored in string values. You will make use of indexing, slicing, and string methods in almost every Python program you write.\n",
    "\n",
    "The programs you are writing now don’t seem too sophisticated—they don’t have graphical user interfaces with images and colorful text. So far, you’re displaying text with print() and letting the user enter text with input(). However, the user can quickly enter large amounts of text through the clipboard. This ability provides a useful avenue for writing programs that manipulate massive amounts of text. These text-based programs might not have flashy windows or graphics, but they can get a lot of useful work done quickly.\n",
    "\n",
    "Topics covered in this chapter:\n",
    "\n",
    "* double quotes, escape characters, multiline string\n",
    "* the upper(), lower(), isupper(), and islower() string methods\n",
    "* startswith() and endswith(),  join() and split() string methods\n",
    "* removing whitespace with strip(), rstrip(), and lstrip()\n",
    "\n",
    "### Small excercises and examples"
   ]
  },
  {
   "cell_type": "code",
   "execution_count": null,
   "metadata": {},
   "outputs": [],
   "source": [
    "#! python3\n",
    "# bulletPointAdder.py - Adds Wikipedia bullet points to the start\n",
    "# of each line of text.\n",
    "import pprint\n",
    "\n",
    "text = 'Lists of animals\\nLists of aquarium life\\nLists of biologists by author abbreviation\\nLists of cultivars'\n",
    "\n",
    "# Separate lines and add stars.\n",
    "lines = text.split('\\n')\n",
    "\n",
    "for i in range(len(lines)):    # loop through all indexes for \"lines\" list\n",
    "    lines[i] = '* ' + lines[i] # add star to each string in \"lines\" list\n",
    "\n",
    "text = '\\n'.join(lines)\n",
    "\n",
    "pprint.pprint(text)"
   ]
  },
  {
   "cell_type": "markdown",
   "metadata": {},
   "source": [
    "## Regular Expressions in Python (chapter 7)\n",
    "\n",
    "You already know how to write regex statements and using them with grep. Python also allows to use regex. Just have a look at the next example."
   ]
  },
  {
   "cell_type": "code",
   "execution_count": null,
   "metadata": {},
   "outputs": [],
   "source": [
    "import re\n",
    "\n",
    "# define a regex pattern for licence plate numbers\n",
    "licenceRegex = re.compile(r'\\D{1,3} \\D{1,2} \\w{1,4}')\n",
    "\n",
    "testCases = 'SU BW 1234, BN-XX-123, BER X 1, K FC d1'\n",
    "\n",
    "# use the search() method which returns the *first* appearance of a match\n",
    "# mo = matching object \n",
    "mo = licenceRegex.search(testCases)\n",
    "mo.group()"
   ]
  },
  {
   "cell_type": "markdown",
   "metadata": {
    "slideshow": {
     "slide_type": "slide"
    }
   },
   "source": [
    "## What did we do here?\n",
    "While there are several steps to using regular expressions in Python, each step is fairly simple.\n",
    "\n",
    "1. Import the regex module with import re.\n",
    "2. Create a Regex object with the re.compile() function. (Remember to use a raw string.)\n",
    "3. Pass the string you want to search into the Regex object’s search() method. This returns a Match object.\n",
    "4. Call the Match object’s group() method to return a string of the actual matched text.\n",
    "\n",
    "But there is more... "
   ]
  },
  {
   "cell_type": "code",
   "execution_count": null,
   "metadata": {},
   "outputs": [],
   "source": [
    "# find all licence plate numbers \n",
    "licenceRegex.findall(testCases)"
   ]
  },
  {
   "cell_type": "markdown",
   "metadata": {},
   "source": [
    "## Substitute Strings with the sub() Methods\n",
    "\n",
    "Regular expressions can not only find text patterns but can also substitute new text in place of those patterns. The sub() method for Regex objects is passed two arguments. The first argument is a string to replace any matches. The second is the string for the regular expression. The sub() method returns a string with the substitutions applied."
   ]
  },
  {
   "cell_type": "code",
   "execution_count": null,
   "metadata": {},
   "outputs": [],
   "source": [
    "# Substitute a pattern\n",
    "secretNameRegex = re.compile(r'Agent \\w+')\n",
    "text = 'Agent Alice gave the secret documents to Agent Bob.'\n",
    "censoredText = secretNameRegex.sub('CENSORED', text)\n",
    "print(censoredText)"
   ]
  },
  {
   "cell_type": "markdown",
   "metadata": {},
   "source": [
    "Sometimes you may need to use the matched text itself as part of the substitution. In the first argument to sub(), you can type \\1, \\2, \\3, and so on, to mean “Enter the text of group 1, 2, 3, and so on, in the substitution.”\n",
    "\n",
    "For example, say you want to censor the names of the secret agents by showing just the first letters of their names. To do this, you could use the regex Agent (\\w)\\w* and pass r'\\1****' as the first argument to sub(). The \\1 in that string will be replaced by whatever text was matched by group 1— that is, the (\\w) group of the regular expression.\n"
   ]
  },
  {
   "cell_type": "code",
   "execution_count": null,
   "metadata": {},
   "outputs": [],
   "source": [
    "# Reusing parts of the matchted text\n",
    "agentNamesRegex = re.compile(r'Agent (\\w)\\w*')\n",
    "pseudoCensoredText = agentNamesRegex.sub(r'\\1****', text)\n",
    "print(pseudoCensoredText)"
   ]
  },
  {
   "cell_type": "markdown",
   "metadata": {},
   "source": [
    "## Reading and Writing Files (chapter 8)\n",
    "\n",
    "Variables are a fine way to store data while your program is running, but if you want your data to persist even after your program has finished, you need to save it to a file. You can think of a file's contents as a single string value, potentially gigabytes in size. In this section, you will learn how to use Python to create, read, and save files on the hard drive.\n",
    "\n",
    "__Watch out__: Windows and Unix-based systems differ in the way folders are separated. It's a backslash (\\\\) on Windows and forward slashes (/) on OS X and Linux. There are some tricks to work around these differences. For more details, which are beyond the scope of this tutorial, check [chapter 8](https://automatetheboringstuff.com/chapter8/), subsection \"Backslash on Windows and Forward Slash on OS X and Linux\"."
   ]
  },
  {
   "cell_type": "code",
   "execution_count": null,
   "metadata": {},
   "outputs": [],
   "source": [
    "# where are you right now?\n",
    "import os\n",
    "os.getcwd()"
   ]
  },
  {
   "cell_type": "code",
   "execution_count": null,
   "metadata": {},
   "outputs": [],
   "source": [
    "# open a csv file and read the content, filter some lines and write the results in a file\n",
    "import os\n",
    "\n",
    "# the Lord of the Rings file from the last exercise \n",
    "tsvFile = open('lotr_clean.csv')\n",
    "\n",
    "# read each line and put it in a list\n",
    "lines = tsvFile.readlines()\n",
    "\n",
    "# iterate over all lines\n",
    "resultFile = open('frodo.csv','a') # open the file in append mode - new content does not overwrite old content\n",
    "for line in lines:\n",
    "    cols = line.split(';') # split the lines\n",
    "    if cols[1] == 'FRODO':\n",
    "        print(cols[1] + ';' + str(cols[2]))\n",
    "        # write the same line into the resultFile. \n",
    "        resultFile.write(cols[1] + ';' + cols[2] + '\\n') # remember the newline at the end!\n",
    "resultFile.close()\n",
    "\n",
    "        "
   ]
  },
  {
   "cell_type": "markdown",
   "metadata": {},
   "source": [
    "# Assignment 2, exercise 1\n",
    "\n",
    "We continue with the Disney Plus data set and try to reproduce some of the exercises we did with shell and grep. Work with [Pandas](https://pandas.pydata.org/) when not stated otherwise!\n",
    "\n",
    "0. Read chapter 8 to learn more about reading and writing files. I skipped a lot of details.\n",
    "1. Write a Python program: Read the Disney Plus data as a Pandas Dataframe.\n",
    "2. Make your program extract a full list of all genre names that are listed in column \"listed_in\". Make sure to extract only the genres and clean the data from non-letter characters if necessary. Save as a list.\n",
    "3. Extend your program to count the distinct (unique) genre names. \n",
    "4. Next, find how many entries in the disney plus catalog belong to each of the genres. Save the genres and corresponding counts in a dictionary. \n",
    "5. Write the results in a new CSV file that contains the genres and the counts. \n",
    "6. Count, save in a dictionary and export as a csv (like in 1-4) the occurances of the terms \"Disney\" and \"Marvel\" in the column description. Think about different name variations (like uppercase, etc.).\n",
    "\n",
    "Commit your Python program and the resulting CSV files. "
   ]
  }
 ],
 "metadata": {
  "kernelspec": {
   "display_name": "Python 3",
   "language": "python",
   "name": "python3"
  },
  "language_info": {
   "codemirror_mode": {
    "name": "ipython",
    "version": 3
   },
   "file_extension": ".py",
   "mimetype": "text/x-python",
   "name": "python",
   "nbconvert_exporter": "python",
   "pygments_lexer": "ipython3",
   "version": "3.9.7"
  }
 },
 "nbformat": 4,
 "nbformat_minor": 2
}
